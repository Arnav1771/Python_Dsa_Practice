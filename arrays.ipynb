{
 "cells": [
  {
   "cell_type": "markdown",
   "metadata": {},
   "source": [
    "# Import Required Libraries\n",
    "Import any necessary libraries, such as NumPy for array manipulations."
   ]
  },
  {
   "cell_type": "code",
   "execution_count": 1,
   "metadata": {},
   "outputs": [],
   "source": [
    "# Import Required Libraries\n",
    "import numpy as np"
   ]
  },
  {
   "cell_type": "markdown",
   "metadata": {},
   "source": [
    "# Easy Level Questions\n"
   ]
  },
  {
   "cell_type": "code",
   "execution_count": null,
   "metadata": {},
   "outputs": [],
   "source": [
    "# Question 1: Find the maximum element in an array\n",
    "def find_max(arr):\n",
    "    return np.max(arr)\n",
    "\n",
    "# Example usage\n",
    "arr1 = np.array([1, 3, 5, 7, 9])\n",
    "print(\"Maximum element:\", find_max(arr1))"
   ]
  },
  {
   "cell_type": "markdown",
   "metadata": {},
   "source": [
    "# Question 1: Find the Maximum Element\n",
    "Write a function to find the maximum element in an array. Provide a sample array and demonstrate the function."
   ]
  },
  {
   "cell_type": "code",
   "execution_count": null,
   "metadata": {},
   "outputs": [],
   "source": [
    "# Import Required Libraries\n",
    "import numpy as np\n",
    "\n",
    "# Question 1: Find the maximum element in an array\n",
    "def find_max(arr):\n",
    "    return np.max(arr)\n",
    "\n",
    "# Example usage\n",
    "arr1 = np.array([1, 3, 5, 7, 9])\n",
    "print(\"Maximum element:\", find_max(arr1))"
   ]
  },
  {
   "cell_type": "markdown",
   "metadata": {},
   "source": [
    "# Question 2: Reverse an Array\n",
    "Write a function to reverse an array. Provide a sample array and demonstrate the function."
   ]
  },
  {
   "cell_type": "code",
   "execution_count": null,
   "metadata": {},
   "outputs": [],
   "source": [
    "# Question 2: Reverse an Array\n",
    "def reverse_array(arr):\n",
    "    return arr[::-1]\n",
    "\n",
    "# Example usage\n",
    "arr2 = np.array([1, 2, 3, 4, 5])\n",
    "print(\"Original array:\", arr2)\n",
    "print(\"Reversed array:\", reverse_array(arr2))"
   ]
  },
  {
   "cell_type": "markdown",
   "metadata": {},
   "source": [
    "# Question 3: Find the Sum of Elements\n",
    "Write a function to find the sum of all elements in an array. Provide a sample array and demonstrate the function."
   ]
  },
  {
   "cell_type": "code",
   "execution_count": null,
   "metadata": {},
   "outputs": [],
   "source": [
    "# Question 3: Find the Sum of Elements\n",
    "def sum_of_elements(arr):\n",
    "    return np.sum(arr)\n",
    "\n",
    "# Example usage\n",
    "arr3 = np.array([1, 2, 3, 4, 5])\n",
    "print(\"Array:\", arr3)\n",
    "print(\"Sum of elements:\", sum_of_elements(arr3))"
   ]
  },
  {
   "cell_type": "markdown",
   "metadata": {},
   "source": [
    "# Question 4: Check if Array is Sorted\n",
    "Write a function to check if an array is sorted in ascending order. Provide a sample array and demonstrate the function."
   ]
  },
  {
   "cell_type": "code",
   "execution_count": 2,
   "metadata": {},
   "outputs": [
    {
     "name": "stdout",
     "output_type": "stream",
     "text": [
      "Array: [1 2 3 4 5]\n",
      "Is the array sorted? True\n",
      "Array: [5 3 1 4 2]\n",
      "Is the array sorted? False\n"
     ]
    }
   ],
   "source": [
    "# Question 4: Check if Array is Sorted\n",
    "def is_sorted(arr):\n",
    "    return np.all(arr[:-1] <= arr[1:])\n",
    "# Example usage\n",
    "arr4 = np.array([1, 2, 3, 4, 5])\n",
    "print(\"Array:\", arr4)\n",
    "print(\"Is the array sorted?\", is_sorted(arr4))\n",
    "\n",
    "arr5 = np.array([5, 3, 1, 4, 2])\n",
    "print(\"Array:\", arr5)\n",
    "print(\"Is the array sorted?\", is_sorted(arr5))"
   ]
  },
  {
   "cell_type": "code",
   "execution_count": 3,
   "metadata": {},
   "outputs": [
    {
     "name": "stdout",
     "output_type": "stream",
     "text": [
      "Array: [1 3 5 7 9]\n",
      "Second largest element: 7\n"
     ]
    }
   ],
   "source": [
    "# Question 1: Find the Second Largest Element in an Array\n",
    "import numpy as np\n",
    "def find_second_largest(arr):\n",
    "    unique_arr = np.unique(arr)\n",
    "    if len(unique_arr) < 2:\n",
    "        return None\n",
    "    return unique_arr[-2]\n",
    "\n",
    "# Example usage\n",
    "arr6 = np.array([1, 3, 5, 7, 9])\n",
    "print(\"Array:\", arr6)\n",
    "print(\"Second largest element:\", find_second_largest(arr6))"
   ]
  },
  {
   "cell_type": "code",
   "execution_count": 4,
   "metadata": {},
   "outputs": [
    {
     "name": "stdout",
     "output_type": "stream",
     "text": [
      "Original array: [1 2 3 4 5]\n",
      "Array after rotating by 2 elements: [4 5 1 2 3]\n"
     ]
    }
   ],
   "source": [
    "# Question 2: Rotate an Array by k Elements\n",
    "def rotate_array(arr, k):\n",
    "    k = k % len(arr)\n",
    "    return np.concatenate((arr[-k:], arr[:-k]))\n",
    "\n",
    "# Example usage\n",
    "arr7 = np.array([1, 2, 3, 4, 5])\n",
    "k = 2\n",
    "print(\"Original array:\", arr7)\n",
    "print(\"Array after rotating by\", k, \"elements:\", rotate_array(arr7, k))"
   ]
  },
  {
   "cell_type": "code",
   "execution_count": 5,
   "metadata": {},
   "outputs": [
    {
     "name": "stdout",
     "output_type": "stream",
     "text": [
      "Array 1: [1 2 3 4 5]\n",
      "Array 2: [4 5 6 7 8]\n",
      "Intersection of arrays: [4 5]\n"
     ]
    }
   ],
   "source": [
    "# Question 3: Find the Intersection of Two Arrays\n",
    "def array_intersection(arr1, arr2):\n",
    "    return np.intersect1d(arr1, arr2)\n",
    "\n",
    "# Example usage\n",
    "arr8 = np.array([1, 2, 3, 4, 5])\n",
    "arr9 = np.array([4, 5, 6, 7, 8])\n",
    "print(\"Array 1:\", arr8)\n",
    "print(\"Array 2:\", arr9)\n",
    "print(\"Intersection of arrays:\", array_intersection(arr8, arr9))"
   ]
  },
  {
   "cell_type": "code",
   "execution_count": 11,
   "metadata": {},
   "outputs": [
    {
     "name": "stdout",
     "output_type": "stream",
     "text": [
      "Array: [4 5 3 2 8 1 6]\n",
      "Missing number: 7\n"
     ]
    }
   ],
   "source": [
    "\n",
    "# Question 4: Find the Missing Number in an Array\n",
    "def find_missing_number(arr, n):\n",
    "    expected_sum = n * (n + 1) // 2\n",
    "    actual_sum = np.sum(arr)\n",
    "    return expected_sum - actual_sum\n",
    "\n",
    "# Example usage\n",
    "arr10 = np.array([4, 5, 3,2,8,1,6])\n",
    "n = 8\n",
    "print(\"Array:\", arr10)\n",
    "print(\"Missing number:\", find_missing_number(arr10, n))"
   ]
  },
  {
   "cell_type": "markdown",
   "metadata": {},
   "source": [
    "# Question 1: Find the Second Largest Element\n",
    "Write a function to find the second largest element in an array. Provide a sample array and demonstrate the function."
   ]
  },
  {
   "cell_type": "code",
   "execution_count": 15,
   "metadata": {},
   "outputs": [
    {
     "name": "stdout",
     "output_type": "stream",
     "text": [
      "Array: [1 3 8 5 7 9]\n",
      "Second largest element: 8\n"
     ]
    }
   ],
   "source": [
    "# Question 1: Find the Second Largest Element\n",
    "def find_second_largest(arr):\n",
    "    unique_arr = np.unique(arr)\n",
    "    if len(unique_arr) < 2:\n",
    "        return None\n",
    "    return unique_arr[-2]\n",
    "\n",
    "# Example usage\n",
    "arr6 = np.array([1, 3,8, 5, 7, 9])\n",
    "print(\"Array:\", arr6)\n",
    "print(\"Second largest element:\", find_second_largest(arr6))"
   ]
  },
  {
   "cell_type": "markdown",
   "metadata": {},
   "source": [
    "# Question 2: Rotate Array by K Positions\n",
    "Write a function to rotate an array by K positions. Provide a sample array and demonstrate the function."
   ]
  },
  {
   "cell_type": "code",
   "execution_count": 13,
   "metadata": {},
   "outputs": [
    {
     "name": "stdout",
     "output_type": "stream",
     "text": [
      "Original array: [1 2 3 4 5]\n",
      "Array after rotating by 2 positions: [4 5 1 2 3]\n"
     ]
    }
   ],
   "source": [
    "# Question 2: Rotate Array by K Positions\n",
    "def rotate_array(arr, k):\n",
    "    k = k % len(arr)  # Ensure k is within the bounds of the array length\n",
    "    return np.concatenate((arr[-k:], arr[:-k]))\n",
    "\n",
    "# Example usage\n",
    "arr7 = np.array([1, 2, 3, 4, 5])\n",
    "k = 2\n",
    "print(\"Original array:\", arr7)\n",
    "print(\"Array after rotating by\", k, \"positions:\", rotate_array(arr7, k))"
   ]
  },
  {
   "cell_type": "markdown",
   "metadata": {},
   "source": [
    "# Question 3: Find the Missing Number\n",
    "Write a function to find the missing number in an array of size n containing numbers from 1 to n. Provide a sample array and demonstrate the function."
   ]
  },
  {
   "cell_type": "code",
   "execution_count": null,
   "metadata": {},
   "outputs": [],
   "source": [
    "# Question 3: Find the Missing Number\n",
    "def find_missing_number(arr, n):\n",
    "    expected_sum = n * (n + 1) // 2\n",
    "    actual_sum = np.sum(arr)\n",
    "    return expected_sum - actual_sum\n",
    "\n",
    "# Example usage\n",
    "arr10 = np.array([1, 2, 4, 5, 6])\n",
    "n = 6\n",
    "print(\"Array:\", arr10)\n",
    "print(\"Missing number:\", find_missing_number(arr10, n))"
   ]
  },
  {
   "cell_type": "markdown",
   "metadata": {},
   "source": [
    "# Question 4: Find the Subarray with Given Sum\n",
    "Write a function to find a subarray with a given sum in an array. Provide a sample array and demonstrate the function."
   ]
  },
  {
   "cell_type": "code",
   "execution_count": null,
   "metadata": {},
   "outputs": [],
   "source": [
    "# Question 4: Find the Subarray with Given Sum\n",
    "def find_subarray_with_sum(arr, target_sum):\n",
    "    current_sum = 0\n",
    "    start_index = 0\n",
    "    subarray = []\n",
    "\n",
    "    for end_index in range(len(arr)):\n",
    "        current_sum += arr[end_index]\n",
    "\n",
    "        while current_sum > target_sum and start_index <= end_index:\n",
    "            current_sum -= arr[start_index]\n",
    "            start_index += 1\n",
    "\n",
    "        if current_sum == target_sum:\n",
    "            subarray = arr[start_index:end_index + 1]\n",
    "            break\n",
    "\n",
    "    return subarray\n",
    "\n",
    "# Example usage\n",
    "arr11 = np.array([1, 2, 3, 7, 5])\n",
    "target_sum = 12\n",
    "print(\"Array:\", arr11)\n",
    "print(\"Subarray with sum\", target_sum, \":\", find_subarray_with_sum(arr11, target_sum))"
   ]
  }
 ],
 "metadata": {
  "kernelspec": {
   "display_name": "Python 3",
   "language": "python",
   "name": "python3"
  },
  "language_info": {
   "codemirror_mode": {
    "name": "ipython",
    "version": 3
   },
   "file_extension": ".py",
   "mimetype": "text/x-python",
   "name": "python",
   "nbconvert_exporter": "python",
   "pygments_lexer": "ipython3",
   "version": "3.11.9"
  }
 },
 "nbformat": 4,
 "nbformat_minor": 2
}
