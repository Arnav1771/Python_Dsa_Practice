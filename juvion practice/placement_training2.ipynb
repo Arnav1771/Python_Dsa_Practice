{
 "cells": [
  {
   "cell_type": "markdown",
   "metadata": {},
   "source": [
    "# Import Required Libraries\n",
    "Import the necessary libraries, such as NumPy for array operations and any other required libraries."
   ]
  },
  {
   "cell_type": "code",
   "execution_count": null,
   "metadata": {},
   "outputs": [],
   "source": [
    "# Import the necessary libraries\n",
    "import numpy as np  # NumPy for array operations"
   ]
  },
  {
   "cell_type": "markdown",
   "metadata": {},
   "source": [
    "# Find the Maximum Subarray Sum\n",
    "Implement Kadane's Algorithm to find the maximum sum of a contiguous subarray."
   ]
  },
  {
   "cell_type": "code",
   "execution_count": null,
   "metadata": {},
   "outputs": [],
   "source": [
    "# Function to find the maximum subarray sum using Kadane's Algorithm\n",
    "def max_subarray_sum(arr):\n",
    "    max_current = max_global = arr[0]\n",
    "    \n",
    "    for num in arr[1:]:\n",
    "        max_current = max(num, max_current + num)\n",
    "        if max_current > max_global:\n",
    "            max_global = max_current\n",
    "            \n",
    "    return max_global\n",
    "\n",
    "# Example usage\n",
    "arr = np.array([-2, 1, -3, 4, -1, 2, 1, -5, 4])\n",
    "print(\"Maximum subarray sum is:\", max_subarray_sum(arr))"
   ]
  },
  {
   "cell_type": "markdown",
   "metadata": {},
   "source": [
    "# Rotate an Array\n",
    "Write a function to rotate an array by a given number of steps."
   ]
  },
  {
   "cell_type": "code",
   "execution_count": null,
   "metadata": {},
   "outputs": [],
   "source": [
    "# Function to rotate an array by a given number of steps\n",
    "def rotate_array(arr, steps):\n",
    "    n = len(arr)\n",
    "    steps = steps % n  # Handle cases where steps > n\n",
    "    return np.concatenate((arr[-steps:], arr[:-steps]))\n",
    "\n",
    "# Example usage\n",
    "arr = np.array([1, 2, 3, 4, 5, 6, 7])\n",
    "steps = 3\n",
    "rotated_arr = rotate_array(arr, steps)\n",
    "print(\"Rotated array by\", steps, \"steps:\", rotated_arr)"
   ]
  },
  {
   "cell_type": "markdown",
   "metadata": {},
   "source": [
    "# Merge Two Sorted Arrays\n",
    "Implement a function to merge two sorted arrays into a single sorted array."
   ]
  },
  {
   "cell_type": "code",
   "execution_count": null,
   "metadata": {},
   "outputs": [],
   "source": [
    "# Function to merge two sorted arrays into a single sorted array\n",
    "def merge_sorted_arrays(arr1, arr2):\n",
    "    i, j = 0, 0\n",
    "    merged_array = []\n",
    "    \n",
    "    # Traverse both arrays and insert smaller element from arr1 or arr2\n",
    "    while i < len(arr1) and j < len(arr2):\n",
    "        if arr1[i] < arr2[j]:\n",
    "            merged_array.append(arr1[i])\n",
    "            i += 1\n",
    "        else:\n",
    "            merged_array.append(arr2[j])\n",
    "            j += 1\n",
    "    \n",
    "    # Collect remaining elements of arr1\n",
    "    while i < len(arr1):\n",
    "        merged_array.append(arr1[i])\n",
    "        i += 1\n",
    "    \n",
    "    # Collect remaining elements of arr2\n",
    "    while j < len(arr2):\n",
    "        merged_array.append(arr2[j])\n",
    "        j += 1\n",
    "    \n",
    "    return np.array(merged_array)\n",
    "\n",
    "# Example usage\n",
    "arr1 = np.array([1, 3, 5, 7])\n",
    "arr2 = np.array([2, 4, 6, 8])\n",
    "merged_arr = merge_sorted_arrays(arr1, arr2)\n",
    "print(\"Merged sorted array:\", merged_arr)"
   ]
  },
  {
   "cell_type": "markdown",
   "metadata": {},
   "source": [
    "# Check for Anagrams\n",
    "Write a function to check if two strings are anagrams of each other."
   ]
  },
  {
   "cell_type": "code",
   "execution_count": null,
   "metadata": {},
   "outputs": [],
   "source": [
    "# Function to check if two strings are anagrams of each other\n",
    "def are_anagrams(str1, str2):\n",
    "    # Anagrams must be of the same length\n",
    "    if len(str1) != len(str2):\n",
    "        return False\n",
    "    \n",
    "    # Sort both strings and compare\n",
    "    return sorted(str1) == sorted(str2)\n",
    "\n",
    "# Example usage\n",
    "str1 = \"listen\"\n",
    "str2 = \"silent\"\n",
    "print(f\"Are '{str1}' and '{str2}' anagrams?:\", are_anagrams(str1, str2))\n",
    "\n",
    "str1 = \"hello\"\n",
    "str2 = \"world\"\n",
    "print(f\"Are '{str1}' and '{str2}' anagrams?:\", are_anagrams(str1, str2))"
   ]
  },
  {
   "cell_type": "markdown",
   "metadata": {},
   "source": [
    "# Longest Substring Without Repeating Characters\n",
    "Implement a function to find the length of the longest substring without repeating characters."
   ]
  },
  {
   "cell_type": "code",
   "execution_count": null,
   "metadata": {},
   "outputs": [],
   "source": [
    "# Function to find the length of the longest substring without repeating characters\n",
    "def length_of_longest_substring(s):\n",
    "    char_map = {}\n",
    "    left = 0\n",
    "    max_length = 0\n",
    "    \n",
    "    for right in range(len(s)):\n",
    "        if s[right] in char_map:\n",
    "            left = max(left, char_map[s[right]] + 1)\n",
    "        char_map[s[right]] = right\n",
    "        max_length = max(max_length, right - left + 1)\n",
    "    \n",
    "    return max_length\n",
    "\n",
    "# Example usage\n",
    "s = \"abcabcbb\"\n",
    "print(\"Length of the longest substring without repeating characters:\", length_of_longest_substring(s))\n",
    "\n",
    "s = \"bbbbb\"\n",
    "print(\"Length of the longest substring without repeating characters:\", length_of_longest_substring(s))\n",
    "\n",
    "s = \"pwwkew\"\n",
    "print(\"Length of the longest substring without repeating characters:\", length_of_longest_substring(s))"
   ]
  },
  {
   "cell_type": "markdown",
   "metadata": {},
   "source": [
    "# String Compression\n",
    "Write a function to perform basic string compression using the counts of repeated characters."
   ]
  },
  {
   "cell_type": "code",
   "execution_count": null,
   "metadata": {},
   "outputs": [],
   "source": [
    "# Function to perform basic string compression using the counts of repeated characters\n",
    "def string_compression(s):\n",
    "    compressed = []\n",
    "    count = 1\n",
    "    \n",
    "    for i in range(1, len(s)):\n",
    "        if s[i] == s[i - 1]:\n",
    "            count += 1\n",
    "        else:\n",
    "            compressed.append(s[i - 1] + str(count))\n",
    "            count = 1\n",
    "    \n",
    "    # Add the last set of characters\n",
    "    compressed.append(s[-1] + str(count))\n",
    "    \n",
    "    compressed_string = ''.join(compressed)\n",
    "    \n",
    "    # Return the original string if compressed string is not smaller\n",
    "    return compressed_string if len(compressed_string) < len(s) else s\n",
    "\n",
    "# Example usage\n",
    "s = \"aabcccccaaa\"\n",
    "print(\"Compressed string:\", string_compression(s))\n",
    "\n",
    "s = \"abcdef\"\n",
    "print(\"Compressed string:\", string_compression(s))"
   ]
  }
 ],
 "metadata": {
  "language_info": {
   "name": "python"
  }
 },
 "nbformat": 4,
 "nbformat_minor": 2
}
