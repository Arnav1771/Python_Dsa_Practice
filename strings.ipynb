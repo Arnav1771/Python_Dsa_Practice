{
 "cells": [
  {
   "cell_type": "markdown",
   "metadata": {},
   "source": [
    "# Import Required Libraries\n",
    "Import any necessary libraries, such as collections or itertools."
   ]
  },
  {
   "cell_type": "code",
   "execution_count": null,
   "metadata": {},
   "outputs": [],
   "source": [
    "# Import Required Libraries\n",
    "import collections\n",
    "import itertools"
   ]
  },
  {
   "cell_type": "markdown",
   "metadata": {},
   "source": [
    "# Easy Questions\n"
   ]
  },
  {
   "cell_type": "code",
   "execution_count": null,
   "metadata": {},
   "outputs": [],
   "source": [
    "# Function to reverse a string\n",
    "def reverse_string(s: str) -> str:\n",
    "    return s[::-1]\n",
    "\n",
    "# Example usage\n",
    "example_string = \"hello\"\n",
    "reverse_string(example_string)  # Output: \"olleh\""
   ]
  },
  {
   "cell_type": "markdown",
   "metadata": {},
   "source": [
    "# Question 1: Reverse a String\n",
    "Write a function to reverse a given string. Example: Input: 'hello', Output: 'olleh'."
   ]
  },
  {
   "cell_type": "code",
   "execution_count": null,
   "metadata": {},
   "outputs": [],
   "source": [
    "# Question 1: Reverse a String\n",
    "# Write a function to reverse a given string. Example: Input: 'hello', Output: 'olleh'.\n",
    "\n",
    "# Function to reverse a string\n",
    "def reverse_string(s: str) -> str:\n",
    "    return s[::-1]\n",
    "\n",
    "# Example usage\n",
    "example_string = \"hello\"\n",
    "reverse_string(example_string)  # Output: \"olleh\""
   ]
  },
  {
   "cell_type": "markdown",
   "metadata": {},
   "source": [
    "# Question 2: Check for Palindrome\n",
    "Write a function to check if a given string is a palindrome. Example: Input: 'racecar', Output: True."
   ]
  },
  {
   "cell_type": "code",
   "execution_count": 5,
   "metadata": {},
   "outputs": [
    {
     "data": {
      "text/plain": [
       "True"
      ]
     },
     "execution_count": 5,
     "metadata": {},
     "output_type": "execute_result"
    }
   ],
   "source": [
    "# Question 2: Check for Palindrome\n",
    "# Write a function to check if a given string is a palindrome. Example: Input: 'racecar', Output: True.\n",
    "\n",
    "# Function to check for palindrome\n",
    "def is_palindrome(s: str) -> bool:\n",
    "    return s == s[::-1]\n",
    "\n",
    "# Example usage\n",
    "example_string = \"racecar\"\n",
    "is_palindrome(example_string)  # Output: True"
   ]
  },
  {
   "cell_type": "markdown",
   "metadata": {},
   "source": [
    "# Question 3: Count Vowels in a String\n",
    "Write a function to count the number of vowels in a given string. Example: Input: 'hello', Output: 2."
   ]
  },
  {
   "cell_type": "code",
   "execution_count": 6,
   "metadata": {},
   "outputs": [
    {
     "data": {
      "text/plain": [
       "8"
      ]
     },
     "execution_count": 6,
     "metadata": {},
     "output_type": "execute_result"
    }
   ],
   "source": [
    "# Question 3: Count Vowels in a String\n",
    "# Write a function to count the number of vowels in a given string. Example: Input: 'hello', Output: 2.\n",
    "\n",
    "# Function to count vowels in a string\n",
    "def count_vowels(s: str) -> int:\n",
    "    vowels = \"aeiouAEIOU\"\n",
    "    return sum(1 for char in s if char in vowels)\n",
    "\n",
    "# Example usage\n",
    "example_string = \"aeiouAAA\"\n",
    "count_vowels(example_string)  # Output: 2"
   ]
  },
  {
   "cell_type": "code",
   "execution_count": 16,
   "metadata": {},
   "outputs": [
    {
     "data": {
      "text/plain": [
       "5"
      ]
     },
     "execution_count": 16,
     "metadata": {},
     "output_type": "execute_result"
    }
   ],
   "source": [
    "# Question 4: Longest Substring Without Repeating Characters\n",
    "# Write a function to find the length of the longest substring without repeating characters. Example: Input: 'abcabcbb', Output: 3.\n",
    "\n",
    "# def length_of_longest_substring(s: str) -> int:\n",
    "#     char_map = {}\n",
    "#     left = 0\n",
    "#     max_length = 0\n",
    "#     for right in range(len(s)):\n",
    "#         if s[right] in char_map:\n",
    "#             left = max(left, char_map[s[right]] + 1)\n",
    "#         char_map[s[right]] = right\n",
    "#         max_length = max(max_length, right - left + 1)\n",
    "#     return max_length\n",
    "def length_of_longest_substring(s: str) -> int:\n",
    "    char_map = {}\n",
    "    left = max_length = 0\n",
    "    \n",
    "    for right, char in enumerate(s):\n",
    "        if char in char_map and char_map[char] >= left:\n",
    "            left = char_map[char] + 1\n",
    "        char_map[char] = right\n",
    "        max_length = max(max_length, right - left + 1)\n",
    "        \n",
    "    return max_length\n",
    "\n",
    "# Example usage\n",
    "example_string = \"pqrsaabcd\"\n",
    "length_of_longest_substring(example_string)  # Output: 3"
   ]
  },
  {
   "cell_type": "code",
   "execution_count": null,
   "metadata": {},
   "outputs": [],
   "source": [
    "# Question 5: Longest Palindromic Substring\n",
    "# Write a function to find the longest palindromic substring in a given string. Example: Input: 'babad', Output: 'bab' or 'aba'.\n",
    "\n",
    "def longest_palindromic_substring(s: str) -> str:\n",
    "    if len(s) < 2:\n",
    "        return s\n",
    "    start, max_= 0, 1\n",
    "    for i in range(1, len(s)):\n",
    "        odd = s[i - max_length - 1:i + 1]\n",
    "        even = s[i - max_length:i + 1]\n",
    "        if i - max_length - 1 >= 0 and odd == odd[::-1]:\n",
    "            start = i - max_length - 1\n",
    "            max_length += 2\n",
    "        elif even == even[::-1]:\n",
    "            start = i - max_length\n",
    "            max_length += 1\n",
    "    return s[start:start + max_length]\n",
    "\n",
    "# Example usage\n",
    "example_string = \"babad\"\n",
    "longest_palindromic_substring(example_string)  # Output: 'bab' or 'aba'"
   ]
  },
  {
   "cell_type": "code",
   "execution_count": null,
   "metadata": {},
   "outputs": [],
   "source": [
    "\n",
    "# Question 6: String to Integer (atoi)\n",
    "# Write a function to convert a string to an integer. Example: Input: '42', Output: 42.\n",
    "\n",
    "def my_atoi(s: str) -> int:\n",
    "    s = s.strip()\n",
    "    if not s:\n",
    "        return 0\n",
    "    sign = -1 if s[0] == '-' else 1\n",
    "    if s[0] in ['-', '+']:\n",
    "        s = s[1:]\n",
    "    result = 0\n",
    "    for char in s:\n",
    "        if not char.isdigit():\n",
    "            break\n",
    "        result = result * 10 + int(char)\n",
    "    return max(-2**31, min(sign * result, 2**31 - 1))\n",
    "\n",
    "# Example usage\n",
    "example_string = \"42\"\n",
    "my_atoi(example_string)  # Output: 42"
   ]
  },
  {
   "cell_type": "code",
   "execution_count": 7,
   "metadata": {},
   "outputs": [
    {
     "ename": "NameError",
     "evalue": "name 'collections' is not defined",
     "output_type": "error",
     "traceback": [
      "\u001b[1;31m---------------------------------------------------------------------------\u001b[0m",
      "\u001b[1;31mNameError\u001b[0m                                 Traceback (most recent call last)",
      "Cell \u001b[1;32mIn[7], line 75\u001b[0m\n\u001b[0;32m     73\u001b[0m \u001b[38;5;66;03m# Example usage\u001b[39;00m\n\u001b[0;32m     74\u001b[0m example_list \u001b[38;5;241m=\u001b[39m [\u001b[38;5;124m\"\u001b[39m\u001b[38;5;124meat\u001b[39m\u001b[38;5;124m\"\u001b[39m, \u001b[38;5;124m\"\u001b[39m\u001b[38;5;124mtea\u001b[39m\u001b[38;5;124m\"\u001b[39m, \u001b[38;5;124m\"\u001b[39m\u001b[38;5;124mtan\u001b[39m\u001b[38;5;124m\"\u001b[39m, \u001b[38;5;124m\"\u001b[39m\u001b[38;5;124mate\u001b[39m\u001b[38;5;124m\"\u001b[39m, \u001b[38;5;124m\"\u001b[39m\u001b[38;5;124mnat\u001b[39m\u001b[38;5;124m\"\u001b[39m, \u001b[38;5;124m\"\u001b[39m\u001b[38;5;124mbat\u001b[39m\u001b[38;5;124m\"\u001b[39m]\n\u001b[1;32m---> 75\u001b[0m \u001b[43mgroup_anagrams\u001b[49m\u001b[43m(\u001b[49m\u001b[43mexample_list\u001b[49m\u001b[43m)\u001b[49m  \u001b[38;5;66;03m# Output: [['eat', 'tea', 'ate'], ['tan', 'nat'], ['bat']]\u001b[39;00m\n",
      "Cell \u001b[1;32mIn[7], line 68\u001b[0m, in \u001b[0;36mgroup_anagrams\u001b[1;34m(strs)\u001b[0m\n\u001b[0;32m     67\u001b[0m \u001b[38;5;28;01mdef\u001b[39;00m \u001b[38;5;21mgroup_anagrams\u001b[39m(strs: \u001b[38;5;28mlist\u001b[39m) \u001b[38;5;241m-\u001b[39m\u001b[38;5;241m>\u001b[39m \u001b[38;5;28mlist\u001b[39m:\n\u001b[1;32m---> 68\u001b[0m     anagrams \u001b[38;5;241m=\u001b[39m \u001b[43mcollections\u001b[49m\u001b[38;5;241m.\u001b[39mdefaultdict(\u001b[38;5;28mlist\u001b[39m)\n\u001b[0;32m     69\u001b[0m     \u001b[38;5;28;01mfor\u001b[39;00m s \u001b[38;5;129;01min\u001b[39;00m strs:\n\u001b[0;32m     70\u001b[0m         anagrams[\u001b[38;5;28mtuple\u001b[39m(\u001b[38;5;28msorted\u001b[39m(s))]\u001b[38;5;241m.\u001b[39mappend(s)\n",
      "\u001b[1;31mNameError\u001b[0m: name 'collections' is not defined"
     ]
    }
   ],
   "source": [
    "# Medium Questions\n",
    "\n",
    "# Question 7: Group Anagrams\n",
    "# Write a function to group anagrams from a list of strings. Example: Input: ['eat', 'tea', 'tan', 'ate', 'nat', 'bat'], Output: [['eat', 'tea', 'ate'], ['tan', 'nat'], ['bat']].\n",
    "\n",
    "def group_anagrams(strs: list) -> list:\n",
    "    anagrams = collections.defaultdict(list)\n",
    "    for s in strs:\n",
    "        anagrams[tuple(sorted(s))].append(s)\n",
    "    return list(anagrams.values())\n",
    "\n",
    "# Example usage\n",
    "example_list = [\"eat\", \"tea\", \"tan\", \"ate\", \"nat\", \"bat\"]\n",
    "group_anagrams(example_list)  # Output: [['eat', 'tea', 'ate'], ['tan', 'nat'], ['bat']]"
   ]
  },
  {
   "cell_type": "markdown",
   "metadata": {},
   "source": [
    "# Question 1: Longest Substring Without Repeating Characters\n",
    "Write a function to find the length of the longest substring without repeating characters. Example: Input: 'abcabcbb', Output: 3."
   ]
  },
  {
   "cell_type": "code",
   "execution_count": null,
   "metadata": {},
   "outputs": [],
   "source": [
    "# Question 1: Longest Substring Without Repeating Characters\n",
    "# Write a function to find the length of the longest substring without repeating characters. Example: Input: 'abcabcbb', Output: 3.\n",
    "\n",
    "def length_of_longest_substring(s: str) -> int:\n",
    "    char_map = {}\n",
    "    left = 0\n",
    "    max_length = 0\n",
    "    for right in range(len(s)):\n",
    "        if s[right] in char_map:\n",
    "            left = max(left, char_map[s[right]] + 1)\n",
    "        char_map[s[right]] = right\n",
    "        max_length = max(max_length, right - left + 1)\n",
    "    return max_length\n",
    "\n",
    "# Example usage\n",
    "example_string = \"abcabcbb\"\n",
    "length_of_longest_substring(example_string)  # Output: 3"
   ]
  },
  {
   "cell_type": "markdown",
   "metadata": {},
   "source": [
    "# Question 2: String Compression\n",
    "Write a function to perform basic string compression using the counts of repeated characters. Example: Input: 'aabcccccaaa', Output: 'a2b1c5a3'."
   ]
  },
  {
   "cell_type": "code",
   "execution_count": 1,
   "metadata": {},
   "outputs": [
    {
     "data": {
      "text/plain": [
       "'a3b3c4b1c1a3'"
      ]
     },
     "execution_count": 1,
     "metadata": {},
     "output_type": "execute_result"
    }
   ],
   "source": [
    "# Question 2: String Compression\n",
    "# Write a function to perform basic string compression using the counts of repeated characters. Example: Input: 'aabcccccaaa', Output: 'a2b1c5a3'.\n",
    "\n",
    "def string_compression(s: str) -> str:\n",
    "    if not s:\n",
    "        return \"\"\n",
    "    \n",
    "    compressed = []\n",
    "    count = 1\n",
    "    \n",
    "    for i in range(1, len(s)):\n",
    "        if s[i] == s[i - 1]:\n",
    "            count += 1\n",
    "        else:\n",
    "            compressed.append(s[i - 1] + str(count))\n",
    "            count = 1\n",
    "    \n",
    "    compressed.append(s[-1] + str(count))\n",
    "    \n",
    "    compressed_string = ''.join(compressed)\n",
    "    return compressed_string if len(compressed_string) < len(s) else s\n",
    "\n",
    "# Example usage\n",
    "example_string = \"aaabbbccccbcaaa\"\n",
    "string_compression(example_string)  # Output: \"a2b1c5a3\""
   ]
  },
  {
   "cell_type": "markdown",
   "metadata": {},
   "source": [
    "# Question 3: Group Anagrams\n",
    "Write a function to group anagrams from a list of strings. Example: Input: ['eat', 'tea', 'tan', 'ate', 'nat', 'bat'], Output: [['eat', 'tea', 'ate'], ['tan', 'nat'], ['bat']]."
   ]
  },
  {
   "cell_type": "code",
   "execution_count": null,
   "metadata": {},
   "outputs": [],
   "source": [
    "# Question 3: Group Anagrams\n",
    "# Write a function to group anagrams from a list of strings. Example: Input: ['eat', 'tea', 'tan', 'ate', 'nat', 'bat'], Output: [['eat', 'tea', 'ate'], ['tan', 'nat'], ['bat']].\n",
    "\n",
    "def group_anagrams(strs: list) -> list:\n",
    "    anagrams = collections.defaultdict(list)\n",
    "    for s in strs:\n",
    "        anagrams[tuple(sorted(s))].append(s)\n",
    "    return list(anagrams.values())\n",
    "\n",
    "# Example usage\n",
    "example_list = [\"eat\", \"tea\", \"tan\", \"ate\", \"nat\", \"bat\"]\n",
    "group_anagrams(example_list)  # Output: [['eat', 'tea', 'ate'], ['tan', 'nat'], ['bat']]"
   ]
  },
  {
   "cell_type": "markdown",
   "metadata": {},
   "source": [
    "# Question 4: Longest Palindromic Substring\n",
    "Write a function to find the longest palindromic substring in a given string. Example: Input: 'babad', Output: 'bab' or 'aba'."
   ]
  },
  {
   "cell_type": "code",
   "execution_count": null,
   "metadata": {},
   "outputs": [],
   "source": [
    "# Question 4: Longest Palindromic Substring\n",
    "# Write a function to find the longest palindromic substring in a given string. Example: Input: 'babad', Output: 'bab' or 'aba'.\n",
    "\n",
    "def longest_palindromic_substring(s: str) -> str:\n",
    "    if len(s) < 2:\n",
    "        return s\n",
    "    start, max_length = 0, 1\n",
    "    for i in range(1, len(s)):\n",
    "        odd = s[i - max_length - 1:i + 1]\n",
    "        even = s[i - max_length:i + 1]\n",
    "        if i - max_length - 1 >= 0 and odd == odd[::-1]:\n",
    "            start = i - max_length - 1\n",
    "            max_length += 2\n",
    "        elif even == even[::-1]:\n",
    "            start = i - max_length\n",
    "            max_length += 1\n",
    "    return s[start:start + max_length]\n",
    "\n",
    "# Example usage\n",
    "example_string = \"babad\"\n",
    "longest_palindromic_substring(example_string)  # Output: 'bab' or 'aba'"
   ]
  }
 ],
 "metadata": {
  "kernelspec": {
   "display_name": "Python 3",
   "language": "python",
   "name": "python3"
  },
  "language_info": {
   "codemirror_mode": {
    "name": "ipython",
    "version": 3
   },
   "file_extension": ".py",
   "mimetype": "text/x-python",
   "name": "python",
   "nbconvert_exporter": "python",
   "pygments_lexer": "ipython3",
   "version": "3.11.9"
  }
 },
 "nbformat": 4,
 "nbformat_minor": 2
}
